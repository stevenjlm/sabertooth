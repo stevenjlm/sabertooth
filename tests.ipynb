{
 "cells": [
  {
   "cell_type": "code",
   "execution_count": 1,
   "metadata": {},
   "outputs": [],
   "source": [
    "import configparser\n",
    "config = configparser.ConfigParser()\n",
    "config.read('config.ini')\n",
    "access_token = config.get('auth', 'access_token')\n",
    "api_base_url = config.get('auth', 'api_base_url')"
   ]
  },
  {
   "cell_type": "code",
   "execution_count": 2,
   "metadata": {},
   "outputs": [],
   "source": [
    "from mastodon import Mastodon\n",
    "\n",
    "# Create a Mastodon client instance\n",
    "mastodon = Mastodon(\n",
    "    access_token=access_token,\n",
    "    api_base_url=api_base_url\n",
    ")\n",
    "\n",
    "# Replace `username` with the username of the user whose timeline you want to pull\n",
    "user_timeline = mastodon.timeline()\n"
   ]
  },
  {
   "cell_type": "code",
   "execution_count": 3,
   "metadata": {},
   "outputs": [],
   "source": [
    "import re\n",
    "import html\n",
    "\n",
    "def strip_html_tags(html_string):\n",
    "    # First we remove inline JavaScript/CSS:\n",
    "    cleaned = re.sub(r\"(?is)<(script|style).*?>.*?(</\\1>)\", \"\", html_string.strip())\n",
    "    # Then we remove html comments.\n",
    "    cleaned = re.sub(r\"(?s)<!--(.*?)-->[\\n]?\", \"\", cleaned)\n",
    "    # Next, remove the html links\n",
    "    cleaned = re.sub(r\"(?i)<a([^>]+)>(.+?)</a>\", \"\", cleaned)\n",
    "    # Now we can remove the remaining tags:\n",
    "    cleaned = re.sub(r\"(?s)<.*?>\", \" \", cleaned)\n",
    "    # Finally, we deal with whitespace\n",
    "    cleaned = re.sub(r\"&nbsp;\", \" \", cleaned)\n",
    "    cleaned = re.sub(r\"  \", \" \", cleaned)\n",
    "    cleaned = re.sub(r\"  \", \" \", cleaned)\n",
    "    return html.unescape(cleaned.strip())"
   ]
  },
  {
   "cell_type": "code",
   "execution_count": 4,
   "metadata": {},
   "outputs": [
    {
     "name": "stdout",
     "output_type": "stream",
     "text": [
      "Warriors!\n",
      "\n",
      "Qubits 30 meters apart used to confirm Einstein was wrong about quantum -\n",
      "I would get in my car every night and I'd put in the music of Bruce Springsteen, and everything changed. And I never again felt like a loser. When you listen to Bruce's music you aren't a loser—you are a character in an epic **poem ... about losers.** **- Jon Stewart (Bruce Springsteen Tribute) - 2009 Kennedy Center Honors**\n",
      "🔴 Donald is taking place in a live town hall on CNN Follow the latest updates in our live blog 👇\n",
      "The Xerox PARC Archive -\n",
      "A Backup of Historical Proportions -\n",
      "GitHub push protection is free for all public repositories -\n",
      "Go with PHP -\n",
      "Sorry Purism, I’m not investing. It’s not even legal -\n",
      "Pure: No more hard drives will be sold after 2028 -\n",
      "When you lose the ability to write, you also lose some of your ability to think -\n",
      "Ad-free Twitter with 1 line of CSS -\n",
      "\n",
      "Microsoft Workers Won't Get Annual Pay Bump Despite $18.3B in Profit -\n",
      "House Oversight has the goods on a president who was making money off of foreign agents while in office. It’s just not the one they are targeting.\n",
      "I, for one, disagree with Sen. Tuberville and think that white nationalists are not average Joes who should stay in the military.\n",
      "Google Earth 3D Models Now Available as Open Standard (GlTF) -\n",
      "Scientists Regenerate Hair Cells That Enable Hearing -\n",
      "Tucker Carlson gave up millions to essentially make his show for free — a big, iffy bet on his viewers’ willingness to move between platforms and a clear indication that what’s important to him is influence.\n"
     ]
    }
   ],
   "source": [
    "# Print the text of each status in the user's timeline\n",
    "for status in user_timeline:\n",
    "    print(strip_html_tags(status[\"content\"]))"
   ]
  },
  {
   "cell_type": "code",
   "execution_count": null,
   "metadata": {},
   "outputs": [],
   "source": []
  }
 ],
 "metadata": {
  "kernelspec": {
   "display_name": "Python 3",
   "language": "python",
   "name": "python3"
  },
  "language_info": {
   "codemirror_mode": {
    "name": "ipython",
    "version": 3
   },
   "file_extension": ".py",
   "mimetype": "text/x-python",
   "name": "python",
   "nbconvert_exporter": "python",
   "pygments_lexer": "ipython3",
   "version": "3.10.11"
  },
  "orig_nbformat": 4
 },
 "nbformat": 4,
 "nbformat_minor": 2
}
